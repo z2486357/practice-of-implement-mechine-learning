{
 "cells": [
  {
   "cell_type": "code",
   "execution_count": 3,
   "metadata": {},
   "outputs": [
    {
     "data": {
      "text/html": [
       "<div>\n",
       "<style scoped>\n",
       "    .dataframe tbody tr th:only-of-type {\n",
       "        vertical-align: middle;\n",
       "    }\n",
       "\n",
       "    .dataframe tbody tr th {\n",
       "        vertical-align: top;\n",
       "    }\n",
       "\n",
       "    .dataframe thead th {\n",
       "        text-align: right;\n",
       "    }\n",
       "</style>\n",
       "<table border=\"1\" class=\"dataframe\">\n",
       "  <thead>\n",
       "    <tr style=\"text-align: right;\">\n",
       "      <th></th>\n",
       "      <th>label</th>\n",
       "      <th>pixel0</th>\n",
       "      <th>pixel1</th>\n",
       "      <th>pixel2</th>\n",
       "      <th>pixel3</th>\n",
       "      <th>pixel4</th>\n",
       "      <th>pixel5</th>\n",
       "      <th>pixel6</th>\n",
       "      <th>pixel7</th>\n",
       "      <th>pixel8</th>\n",
       "      <th>...</th>\n",
       "      <th>pixel774</th>\n",
       "      <th>pixel775</th>\n",
       "      <th>pixel776</th>\n",
       "      <th>pixel777</th>\n",
       "      <th>pixel778</th>\n",
       "      <th>pixel779</th>\n",
       "      <th>pixel780</th>\n",
       "      <th>pixel781</th>\n",
       "      <th>pixel782</th>\n",
       "      <th>pixel783</th>\n",
       "    </tr>\n",
       "  </thead>\n",
       "  <tbody>\n",
       "    <tr>\n",
       "      <th>0</th>\n",
       "      <td>1</td>\n",
       "      <td>0</td>\n",
       "      <td>0</td>\n",
       "      <td>0</td>\n",
       "      <td>0</td>\n",
       "      <td>0</td>\n",
       "      <td>0</td>\n",
       "      <td>0</td>\n",
       "      <td>0</td>\n",
       "      <td>0</td>\n",
       "      <td>...</td>\n",
       "      <td>0</td>\n",
       "      <td>0</td>\n",
       "      <td>0</td>\n",
       "      <td>0</td>\n",
       "      <td>0</td>\n",
       "      <td>0</td>\n",
       "      <td>0</td>\n",
       "      <td>0</td>\n",
       "      <td>0</td>\n",
       "      <td>0</td>\n",
       "    </tr>\n",
       "    <tr>\n",
       "      <th>1</th>\n",
       "      <td>0</td>\n",
       "      <td>0</td>\n",
       "      <td>0</td>\n",
       "      <td>0</td>\n",
       "      <td>0</td>\n",
       "      <td>0</td>\n",
       "      <td>0</td>\n",
       "      <td>0</td>\n",
       "      <td>0</td>\n",
       "      <td>0</td>\n",
       "      <td>...</td>\n",
       "      <td>0</td>\n",
       "      <td>0</td>\n",
       "      <td>0</td>\n",
       "      <td>0</td>\n",
       "      <td>0</td>\n",
       "      <td>0</td>\n",
       "      <td>0</td>\n",
       "      <td>0</td>\n",
       "      <td>0</td>\n",
       "      <td>0</td>\n",
       "    </tr>\n",
       "    <tr>\n",
       "      <th>2</th>\n",
       "      <td>1</td>\n",
       "      <td>0</td>\n",
       "      <td>0</td>\n",
       "      <td>0</td>\n",
       "      <td>0</td>\n",
       "      <td>0</td>\n",
       "      <td>0</td>\n",
       "      <td>0</td>\n",
       "      <td>0</td>\n",
       "      <td>0</td>\n",
       "      <td>...</td>\n",
       "      <td>0</td>\n",
       "      <td>0</td>\n",
       "      <td>0</td>\n",
       "      <td>0</td>\n",
       "      <td>0</td>\n",
       "      <td>0</td>\n",
       "      <td>0</td>\n",
       "      <td>0</td>\n",
       "      <td>0</td>\n",
       "      <td>0</td>\n",
       "    </tr>\n",
       "    <tr>\n",
       "      <th>3</th>\n",
       "      <td>4</td>\n",
       "      <td>0</td>\n",
       "      <td>0</td>\n",
       "      <td>0</td>\n",
       "      <td>0</td>\n",
       "      <td>0</td>\n",
       "      <td>0</td>\n",
       "      <td>0</td>\n",
       "      <td>0</td>\n",
       "      <td>0</td>\n",
       "      <td>...</td>\n",
       "      <td>0</td>\n",
       "      <td>0</td>\n",
       "      <td>0</td>\n",
       "      <td>0</td>\n",
       "      <td>0</td>\n",
       "      <td>0</td>\n",
       "      <td>0</td>\n",
       "      <td>0</td>\n",
       "      <td>0</td>\n",
       "      <td>0</td>\n",
       "    </tr>\n",
       "    <tr>\n",
       "      <th>4</th>\n",
       "      <td>0</td>\n",
       "      <td>0</td>\n",
       "      <td>0</td>\n",
       "      <td>0</td>\n",
       "      <td>0</td>\n",
       "      <td>0</td>\n",
       "      <td>0</td>\n",
       "      <td>0</td>\n",
       "      <td>0</td>\n",
       "      <td>0</td>\n",
       "      <td>...</td>\n",
       "      <td>0</td>\n",
       "      <td>0</td>\n",
       "      <td>0</td>\n",
       "      <td>0</td>\n",
       "      <td>0</td>\n",
       "      <td>0</td>\n",
       "      <td>0</td>\n",
       "      <td>0</td>\n",
       "      <td>0</td>\n",
       "      <td>0</td>\n",
       "    </tr>\n",
       "  </tbody>\n",
       "</table>\n",
       "<p>5 rows × 785 columns</p>\n",
       "</div>"
      ],
      "text/plain": [
       "   label  pixel0  pixel1  pixel2  pixel3  pixel4  pixel5  pixel6  pixel7  \\\n",
       "0      1       0       0       0       0       0       0       0       0   \n",
       "1      0       0       0       0       0       0       0       0       0   \n",
       "2      1       0       0       0       0       0       0       0       0   \n",
       "3      4       0       0       0       0       0       0       0       0   \n",
       "4      0       0       0       0       0       0       0       0       0   \n",
       "\n",
       "   pixel8    ...     pixel774  pixel775  pixel776  pixel777  pixel778  \\\n",
       "0       0    ...            0         0         0         0         0   \n",
       "1       0    ...            0         0         0         0         0   \n",
       "2       0    ...            0         0         0         0         0   \n",
       "3       0    ...            0         0         0         0         0   \n",
       "4       0    ...            0         0         0         0         0   \n",
       "\n",
       "   pixel779  pixel780  pixel781  pixel782  pixel783  \n",
       "0         0         0         0         0         0  \n",
       "1         0         0         0         0         0  \n",
       "2         0         0         0         0         0  \n",
       "3         0         0         0         0         0  \n",
       "4         0         0         0         0         0  \n",
       "\n",
       "[5 rows x 785 columns]"
      ]
     },
     "execution_count": 3,
     "metadata": {},
     "output_type": "execute_result"
    }
   ],
   "source": [
    "import pandas as pd\n",
    "import pylab as pl\n",
    "import numpy as np\n",
    "import matplotlib.pyplot as plt\n",
    "%matplotlib inline\n",
    "train_df = pd.read_csv(\"train.csv\")\n",
    "train_df.head()"
   ]
  },
  {
   "cell_type": "code",
   "execution_count": 4,
   "metadata": {},
   "outputs": [
    {
     "data": {
      "text/html": [
       "<div>\n",
       "<style scoped>\n",
       "    .dataframe tbody tr th:only-of-type {\n",
       "        vertical-align: middle;\n",
       "    }\n",
       "\n",
       "    .dataframe tbody tr th {\n",
       "        vertical-align: top;\n",
       "    }\n",
       "\n",
       "    .dataframe thead th {\n",
       "        text-align: right;\n",
       "    }\n",
       "</style>\n",
       "<table border=\"1\" class=\"dataframe\">\n",
       "  <thead>\n",
       "    <tr style=\"text-align: right;\">\n",
       "      <th></th>\n",
       "      <th>pixel0</th>\n",
       "      <th>pixel1</th>\n",
       "      <th>pixel2</th>\n",
       "      <th>pixel3</th>\n",
       "      <th>pixel4</th>\n",
       "      <th>pixel5</th>\n",
       "      <th>pixel6</th>\n",
       "      <th>pixel7</th>\n",
       "      <th>pixel8</th>\n",
       "      <th>pixel9</th>\n",
       "      <th>...</th>\n",
       "      <th>pixel774</th>\n",
       "      <th>pixel775</th>\n",
       "      <th>pixel776</th>\n",
       "      <th>pixel777</th>\n",
       "      <th>pixel778</th>\n",
       "      <th>pixel779</th>\n",
       "      <th>pixel780</th>\n",
       "      <th>pixel781</th>\n",
       "      <th>pixel782</th>\n",
       "      <th>pixel783</th>\n",
       "    </tr>\n",
       "  </thead>\n",
       "  <tbody>\n",
       "    <tr>\n",
       "      <th>0</th>\n",
       "      <td>0</td>\n",
       "      <td>0</td>\n",
       "      <td>0</td>\n",
       "      <td>0</td>\n",
       "      <td>0</td>\n",
       "      <td>0</td>\n",
       "      <td>0</td>\n",
       "      <td>0</td>\n",
       "      <td>0</td>\n",
       "      <td>0</td>\n",
       "      <td>...</td>\n",
       "      <td>0</td>\n",
       "      <td>0</td>\n",
       "      <td>0</td>\n",
       "      <td>0</td>\n",
       "      <td>0</td>\n",
       "      <td>0</td>\n",
       "      <td>0</td>\n",
       "      <td>0</td>\n",
       "      <td>0</td>\n",
       "      <td>0</td>\n",
       "    </tr>\n",
       "    <tr>\n",
       "      <th>1</th>\n",
       "      <td>0</td>\n",
       "      <td>0</td>\n",
       "      <td>0</td>\n",
       "      <td>0</td>\n",
       "      <td>0</td>\n",
       "      <td>0</td>\n",
       "      <td>0</td>\n",
       "      <td>0</td>\n",
       "      <td>0</td>\n",
       "      <td>0</td>\n",
       "      <td>...</td>\n",
       "      <td>0</td>\n",
       "      <td>0</td>\n",
       "      <td>0</td>\n",
       "      <td>0</td>\n",
       "      <td>0</td>\n",
       "      <td>0</td>\n",
       "      <td>0</td>\n",
       "      <td>0</td>\n",
       "      <td>0</td>\n",
       "      <td>0</td>\n",
       "    </tr>\n",
       "    <tr>\n",
       "      <th>2</th>\n",
       "      <td>0</td>\n",
       "      <td>0</td>\n",
       "      <td>0</td>\n",
       "      <td>0</td>\n",
       "      <td>0</td>\n",
       "      <td>0</td>\n",
       "      <td>0</td>\n",
       "      <td>0</td>\n",
       "      <td>0</td>\n",
       "      <td>0</td>\n",
       "      <td>...</td>\n",
       "      <td>0</td>\n",
       "      <td>0</td>\n",
       "      <td>0</td>\n",
       "      <td>0</td>\n",
       "      <td>0</td>\n",
       "      <td>0</td>\n",
       "      <td>0</td>\n",
       "      <td>0</td>\n",
       "      <td>0</td>\n",
       "      <td>0</td>\n",
       "    </tr>\n",
       "    <tr>\n",
       "      <th>3</th>\n",
       "      <td>0</td>\n",
       "      <td>0</td>\n",
       "      <td>0</td>\n",
       "      <td>0</td>\n",
       "      <td>0</td>\n",
       "      <td>0</td>\n",
       "      <td>0</td>\n",
       "      <td>0</td>\n",
       "      <td>0</td>\n",
       "      <td>0</td>\n",
       "      <td>...</td>\n",
       "      <td>0</td>\n",
       "      <td>0</td>\n",
       "      <td>0</td>\n",
       "      <td>0</td>\n",
       "      <td>0</td>\n",
       "      <td>0</td>\n",
       "      <td>0</td>\n",
       "      <td>0</td>\n",
       "      <td>0</td>\n",
       "      <td>0</td>\n",
       "    </tr>\n",
       "    <tr>\n",
       "      <th>4</th>\n",
       "      <td>0</td>\n",
       "      <td>0</td>\n",
       "      <td>0</td>\n",
       "      <td>0</td>\n",
       "      <td>0</td>\n",
       "      <td>0</td>\n",
       "      <td>0</td>\n",
       "      <td>0</td>\n",
       "      <td>0</td>\n",
       "      <td>0</td>\n",
       "      <td>...</td>\n",
       "      <td>0</td>\n",
       "      <td>0</td>\n",
       "      <td>0</td>\n",
       "      <td>0</td>\n",
       "      <td>0</td>\n",
       "      <td>0</td>\n",
       "      <td>0</td>\n",
       "      <td>0</td>\n",
       "      <td>0</td>\n",
       "      <td>0</td>\n",
       "    </tr>\n",
       "  </tbody>\n",
       "</table>\n",
       "<p>5 rows × 784 columns</p>\n",
       "</div>"
      ],
      "text/plain": [
       "   pixel0  pixel1  pixel2  pixel3  pixel4  pixel5  pixel6  pixel7  pixel8  \\\n",
       "0       0       0       0       0       0       0       0       0       0   \n",
       "1       0       0       0       0       0       0       0       0       0   \n",
       "2       0       0       0       0       0       0       0       0       0   \n",
       "3       0       0       0       0       0       0       0       0       0   \n",
       "4       0       0       0       0       0       0       0       0       0   \n",
       "\n",
       "   pixel9    ...     pixel774  pixel775  pixel776  pixel777  pixel778  \\\n",
       "0       0    ...            0         0         0         0         0   \n",
       "1       0    ...            0         0         0         0         0   \n",
       "2       0    ...            0         0         0         0         0   \n",
       "3       0    ...            0         0         0         0         0   \n",
       "4       0    ...            0         0         0         0         0   \n",
       "\n",
       "   pixel779  pixel780  pixel781  pixel782  pixel783  \n",
       "0         0         0         0         0         0  \n",
       "1         0         0         0         0         0  \n",
       "2         0         0         0         0         0  \n",
       "3         0         0         0         0         0  \n",
       "4         0         0         0         0         0  \n",
       "\n",
       "[5 rows x 784 columns]"
      ]
     },
     "execution_count": 4,
     "metadata": {},
     "output_type": "execute_result"
    }
   ],
   "source": [
    "X_data=train_df.iloc[:,1:]\n",
    "X_data.head()"
   ]
  },
  {
   "cell_type": "code",
   "execution_count": 5,
   "metadata": {},
   "outputs": [
    {
     "data": {
      "text/plain": [
       "0    1\n",
       "1    0\n",
       "2    1\n",
       "3    4\n",
       "4    0\n",
       "Name: label, dtype: int64"
      ]
     },
     "execution_count": 5,
     "metadata": {},
     "output_type": "execute_result"
    }
   ],
   "source": [
    "Y_data=train_df.iloc[:,0]\n",
    "Y_data.head()"
   ]
  },
  {
   "cell_type": "code",
   "execution_count": 6,
   "metadata": {},
   "outputs": [
    {
     "name": "stderr",
     "output_type": "stream",
     "text": [
      "C:\\Users\\Aloha\\Anaconda3\\lib\\site-packages\\sklearn\\cross_validation.py:41: DeprecationWarning: This module was deprecated in version 0.18 in favor of the model_selection module into which all the refactored classes and functions are moved. Also note that the interface of the new CV iterators are different from that of this module. This module will be removed in 0.20.\n",
      "  \"This module will be removed in 0.20.\", DeprecationWarning)\n"
     ]
    }
   ],
   "source": [
    "from sklearn.cross_validation import train_test_split\n",
    "X_train, X_test, Y_train, Y_test = train_test_split( X_data, Y_data, test_size=0.8)"
   ]
  },
  {
   "cell_type": "code",
   "execution_count": 6,
   "metadata": {},
   "outputs": [
    {
     "name": "stdout",
     "output_type": "stream",
     "text": [
      "[403. 488. 471. 404. 405. 387. 418. 437. 398. 402.]\n"
     ]
    }
   ],
   "source": [
    "total=np.zeros(10)\n",
    "for i in range(0,len(Y_test)):\n",
    "    total[Y_test.iloc[i]]+=1\n",
    "print(total)"
   ]
  },
  {
   "cell_type": "code",
   "execution_count": 8,
   "metadata": {},
   "outputs": [],
   "source": [
    "#SVM"
   ]
  },
  {
   "cell_type": "code",
   "execution_count": 11,
   "metadata": {},
   "outputs": [
    {
     "data": {
      "text/plain": [
       "SVC(C=1.0, cache_size=200, class_weight=None, coef0=0.0,\n",
       "  decision_function_shape='ovr', degree=3, gamma='auto', kernel='linear',\n",
       "  max_iter=-1, probability=False, random_state=None, shrinking=True,\n",
       "  tol=0.001, verbose=False)"
      ]
     },
     "execution_count": 11,
     "metadata": {},
     "output_type": "execute_result"
    }
   ],
   "source": [
    "from sklearn import svm\n",
    "clf = svm.SVC(kernel='linear')\n",
    "clf.fit(X_train, Y_train) "
   ]
  },
  {
   "cell_type": "code",
   "execution_count": 12,
   "metadata": {},
   "outputs": [
    {
     "name": "stdout",
     "output_type": "stream",
     "text": [
      "[430. 513. 442. 384. 446. 385. 446. 412. 364. 391.]\n",
      "[409. 472. 451. 414. 402. 390. 430. 442. 396. 407.]\n"
     ]
    }
   ],
   "source": [
    "Y_aftersvc = clf.predict(X_test)\n",
    "total=np.zeros(10)\n",
    "for i in range(0,len(Y_test)):\n",
    "    total[Y_aftersvc[i]]+=1\n",
    "print(total)\n",
    "total=np.zeros(10)\n",
    "for i in range(0,len(Y_test)):\n",
    "    total[Y_test.iloc[i]]+=1\n",
    "print(total)"
   ]
  },
  {
   "cell_type": "code",
   "execution_count": 13,
   "metadata": {},
   "outputs": [
    {
     "name": "stdout",
     "output_type": "stream",
     "text": [
      "0.8860669356752907\n"
     ]
    }
   ],
   "source": [
    "total=0\n",
    "for i in range(0,len(Y_test)):\n",
    "    if Y_test.iloc[i]==Y_aftersvc[i]:\n",
    "        \"\"\"print(str(Y_test.iloc[i])+\"  \"+str(Y_aftersvc[i]))\"\"\"\n",
    "        total+=1\n",
    "print(total/len(Y_test))"
   ]
  },
  {
   "cell_type": "code",
   "execution_count": 14,
   "metadata": {},
   "outputs": [
    {
     "data": {
      "text/plain": [
       "0.8860669356752907"
      ]
     },
     "execution_count": 14,
     "metadata": {},
     "output_type": "execute_result"
    }
   ],
   "source": [
    "from sklearn.metrics import jaccard_similarity_score\n",
    "jaccard_similarity_score(Y_test, Y_aftersvc)"
   ]
  },
  {
   "cell_type": "code",
   "execution_count": 15,
   "metadata": {},
   "outputs": [
    {
     "name": "stdout",
     "output_type": "stream",
     "text": [
      "[412. 619. 430. 383. 410. 379. 432. 388. 368. 392.]\n",
      "[409. 472. 451. 414. 402. 390. 430. 442. 396. 407.]\n",
      "0.8905767861381438\n"
     ]
    },
    {
     "data": {
      "text/plain": [
       "0.8905767861381438"
      ]
     },
     "execution_count": 15,
     "metadata": {},
     "output_type": "execute_result"
    }
   ],
   "source": [
    "from sklearn import svm\n",
    "clf = svm.SVC(kernel='poly')\n",
    "clf.fit(X_train, Y_train) \n",
    "Y_aftersvc = clf.predict(X_test)\n",
    "total=np.zeros(10)\n",
    "for i in range(0,len(Y_test)):\n",
    "    total[Y_aftersvc[i]]+=1\n",
    "print(total)\n",
    "total=np.zeros(10)\n",
    "for i in range(0,len(Y_test)):\n",
    "    total[Y_test.iloc[i]]+=1\n",
    "print(total)\n",
    "total=0\n",
    "for i in range(0,len(Y_test)):\n",
    "    if Y_test.iloc[i]==Y_aftersvc[i]:\n",
    "        \"\"\"print(str(Y_test.iloc[i])+\"  \"+str(Y_aftersvc[i]))\"\"\"\n",
    "        total+=1\n",
    "print(total/len(Y_test))\n",
    "from sklearn.metrics import jaccard_similarity_score\n",
    "jaccard_similarity_score(Y_test, Y_aftersvc)"
   ]
  },
  {
   "cell_type": "code",
   "execution_count": 16,
   "metadata": {},
   "outputs": [
    {
     "name": "stdout",
     "output_type": "stream",
     "text": [
      "[   0.    0. 4213.    0.    0.    0.    0.    0.    0.    0.]\n",
      "[409. 472. 451. 414. 402. 390. 430. 442. 396. 407.]\n",
      "0.10704960835509138\n"
     ]
    },
    {
     "data": {
      "text/plain": [
       "0.10704960835509138"
      ]
     },
     "execution_count": 16,
     "metadata": {},
     "output_type": "execute_result"
    }
   ],
   "source": [
    "from sklearn import svm\n",
    "clf = svm.SVC(kernel='rbf')\n",
    "clf.fit(X_train, Y_train) \n",
    "Y_aftersvc = clf.predict(X_test)\n",
    "total=np.zeros(10)\n",
    "for i in range(0,len(Y_test)):\n",
    "    total[Y_aftersvc[i]]+=1\n",
    "print(total)\n",
    "total=np.zeros(10)\n",
    "for i in range(0,len(Y_test)):\n",
    "    total[Y_test.iloc[i]]+=1\n",
    "print(total)\n",
    "total=0\n",
    "for i in range(0,len(Y_test)):\n",
    "    if Y_test.iloc[i]==Y_aftersvc[i]:\n",
    "        \"\"\"print(str(Y_test.iloc[i])+\"  \"+str(Y_aftersvc[i]))\"\"\"\n",
    "        total+=1\n",
    "print(total/len(Y_test))\n",
    "from sklearn.metrics import jaccard_similarity_score\n",
    "jaccard_similarity_score(Y_test, Y_aftersvc)"
   ]
  },
  {
   "cell_type": "code",
   "execution_count": 9,
   "metadata": {},
   "outputs": [
    {
     "data": {
      "text/plain": [
       "DecisionTreeClassifier(class_weight=None, criterion='entropy', max_depth=4,\n",
       "            max_features=None, max_leaf_nodes=None,\n",
       "            min_impurity_decrease=0.0, min_impurity_split=None,\n",
       "            min_samples_leaf=1, min_samples_split=2,\n",
       "            min_weight_fraction_leaf=0.0, presort=False, random_state=None,\n",
       "            splitter='best')"
      ]
     },
     "execution_count": 9,
     "metadata": {},
     "output_type": "execute_result"
    }
   ],
   "source": [
    "from sklearn.tree import DecisionTreeClassifier\n",
    "drugTree = DecisionTreeClassifier(criterion=\"entropy\", max_depth = 4)\n",
    "drugTree # it shows the default parameters"
   ]
  },
  {
   "cell_type": "code",
   "execution_count": 10,
   "metadata": {},
   "outputs": [
    {
     "data": {
      "text/plain": [
       "DecisionTreeClassifier(class_weight=None, criterion='entropy', max_depth=4,\n",
       "            max_features=None, max_leaf_nodes=None,\n",
       "            min_impurity_decrease=0.0, min_impurity_split=None,\n",
       "            min_samples_leaf=1, min_samples_split=2,\n",
       "            min_weight_fraction_leaf=0.0, presort=False, random_state=None,\n",
       "            splitter='best')"
      ]
     },
     "execution_count": 10,
     "metadata": {},
     "output_type": "execute_result"
    }
   ],
   "source": [
    "drugTree.fit(X_train,Y_train)"
   ]
  },
  {
   "cell_type": "code",
   "execution_count": 15,
   "metadata": {},
   "outputs": [],
   "source": [
    "Y_afterdecision = drugTree.predict(X_test)"
   ]
  },
  {
   "cell_type": "code",
   "execution_count": 18,
   "metadata": {},
   "outputs": [
    {
     "name": "stdout",
     "output_type": "stream",
     "text": [
      "[547. 577. 399. 392. 612. 179. 398. 525. 336. 248.]\n",
      "[403. 488. 471. 404. 405. 387. 418. 437. 398. 402.]\n"
     ]
    },
    {
     "data": {
      "text/plain": [
       "0.5900783289817232"
      ]
     },
     "execution_count": 18,
     "metadata": {},
     "output_type": "execute_result"
    }
   ],
   "source": [
    "total=np.zeros(10)\n",
    "for i in range(0,len(Y_test)):\n",
    "    total[Y_afterdecision[i]]+=1\n",
    "print(total)\n",
    "total=np.zeros(10)\n",
    "for i in range(0,len(Y_test)):\n",
    "    total[Y_test.iloc[i]]+=1\n",
    "print(total)\n",
    "total=0\n",
    "for i in range(0,len(Y_test)):\n",
    "    if Y_test.iloc[i]==Y_afterdecision[i]:\n",
    "        \"\"\"print(str(Y_test.iloc[i])+\"  \"+str(Y_afterdecision[i]))\"\"\"\n",
    "        total+=1\n",
    "from sklearn.metrics import jaccard_similarity_score\n",
    "jaccard_similarity_score(Y_test, Y_afterdecision)"
   ]
  },
  {
   "cell_type": "code",
   "execution_count": 23,
   "metadata": {},
   "outputs": [
    {
     "name": "stdout",
     "output_type": "stream",
     "text": [
      "[412. 498. 444. 386. 376. 429. 405. 452. 394. 417.]\n",
      "[403. 488. 471. 404. 405. 387. 418. 437. 398. 402.]\n"
     ]
    },
    {
     "data": {
      "text/plain": [
       "0.6786138143840493"
      ]
     },
     "execution_count": 23,
     "metadata": {},
     "output_type": "execute_result"
    }
   ],
   "source": [
    "from sklearn.tree import DecisionTreeClassifier\n",
    "drugTree = DecisionTreeClassifier(criterion=\"gini\",max_depth = None)\n",
    "drugTree # it shows the default parameters\n",
    "drugTree.fit(X_train,Y_train)\n",
    "Y_afterdecision = drugTree.predict(X_test)\n",
    "total=np.zeros(10)\n",
    "for i in range(0,len(Y_test)):\n",
    "    total[Y_afterdecision[i]]+=1\n",
    "print(total)\n",
    "total=np.zeros(10)\n",
    "for i in range(0,len(Y_test)):\n",
    "    total[Y_test.iloc[i]]+=1\n",
    "print(total)\n",
    "total=0\n",
    "for i in range(0,len(Y_test)):\n",
    "    if Y_test.iloc[i]==Y_afterdecision[i]:\n",
    "        \"\"\"print(str(Y_test.iloc[i])+\"  \"+str(Y_afterdecision[i]))\"\"\"\n",
    "        total+=1\n",
    "from sklearn.metrics import jaccard_similarity_score\n",
    "jaccard_similarity_score(Y_test, Y_afterdecision)"
   ]
  },
  {
   "cell_type": "code",
   "execution_count": 7,
   "metadata": {},
   "outputs": [
    {
     "name": "stdout",
     "output_type": "stream",
     "text": [
      "k=1\n",
      "[424. 543. 407. 416. 374. 389. 440. 440. 327. 453.]\n",
      "[409. 482. 449. 399. 405. 404. 429. 424. 402. 410.]\n",
      "1.0\n",
      "0.88274388796582\n",
      "k=2\n",
      "[461. 588. 415. 463. 449. 363. 407. 458. 285. 324.]\n",
      "[409. 482. 449. 399. 405. 404. 429. 424. 402. 410.]\n",
      "0.9544159544159544\n",
      "0.8616187989556136\n",
      "k=3\n",
      "[447. 577. 404. 421. 392. 366. 434. 432. 314. 426.]\n",
      "[409. 482. 449. 399. 405. 404. 429. 424. 402. 410.]\n",
      "0.9591642924976258\n",
      "0.8822691668644671\n",
      "k=4\n",
      "[447. 591. 384. 427. 408. 370. 427. 456. 312. 391.]\n",
      "[409. 482. 449. 399. 405. 404. 429. 424. 402. 410.]\n",
      "0.9458689458689459\n",
      "0.8763351530975552\n",
      "k=5\n",
      "[439. 595. 376. 421. 379. 370. 441. 445. 314. 433.]\n",
      "[409. 482. 449. 399. 405. 404. 429. 424. 402. 410.]\n",
      "0.9344729344729344\n",
      "0.8751483503441728\n",
      "k=6\n",
      "[440. 612. 370. 426. 380. 366. 429. 454. 311. 425.]\n",
      "[409. 482. 449. 399. 405. 404. 429. 424. 402. 410.]\n",
      "0.9316239316239316\n",
      "0.873249465938761\n",
      "k=7\n",
      "[434. 616. 367. 410. 377. 370. 439. 441. 314. 445.]\n",
      "[409. 482. 449. 399. 405. 404. 429. 424. 402. 410.]\n",
      "0.9287749287749287\n",
      "0.8682648943745549\n",
      "k=8\n",
      "[433. 626. 368. 407. 377. 366. 438. 448. 311. 439.]\n",
      "[409. 482. 449. 399. 405. 404. 429. 424. 402. 410.]\n",
      "0.9230769230769231\n",
      "0.8649418466650842\n",
      "k=9\n",
      "[436. 636. 362. 413. 371. 356. 433. 442. 314. 450.]\n",
      "[409. 482. 449. 399. 405. 404. 429. 424. 402. 410.]\n",
      "0.9211775878442545\n",
      "0.86185615950629\n",
      "k=10\n",
      "[434. 648. 357. 414. 371. 355. 429. 450. 311. 444.]\n",
      "[409. 482. 449. 399. 405. 404. 429. 424. 402. 410.]\n",
      "0.9145299145299145\n",
      "0.8599572751008783\n",
      "k=11\n",
      "[432. 658. 355. 416. 359. 349. 428. 443. 312. 461.]\n",
      "[409. 482. 449. 399. 405. 404. 429. 424. 402. 410.]\n",
      "0.912630579297246\n",
      "0.8544979824353193\n",
      "k=12\n",
      "[429. 671. 350. 413. 366. 351. 429. 443. 306. 455.]\n",
      "[409. 482. 449. 399. 405. 404. 429. 424. 402. 410.]\n",
      "0.9069325735992403\n",
      "0.8490386897697603\n",
      "k=13\n",
      "[427. 674. 347. 409. 360. 344. 435. 441. 309. 467.]\n",
      "[409. 482. 449. 399. 405. 404. 429. 424. 402. 410.]\n",
      "0.9021842355175689\n",
      "0.8450035604082602\n",
      "k=14\n",
      "[425. 688. 344. 410. 356. 342. 433. 440. 310. 465.]\n",
      "[409. 482. 449. 399. 405. 404. 429. 424. 402. 410.]\n",
      "0.8917378917378918\n",
      "0.8435793971042013\n",
      "k=15\n",
      "[426. 694. 342. 408. 356. 337. 436. 442. 305. 467.]\n",
      "[409. 482. 449. 399. 405. 404. 429. 424. 402. 410.]\n",
      "0.8917378917378918\n",
      "0.8404937099454071\n",
      "k=16\n",
      "[424. 706. 338. 406. 353. 336. 436. 443. 301. 470.]\n",
      "[409. 482. 449. 399. 405. 404. 429. 424. 402. 410.]\n",
      "0.8907882241215574\n",
      "0.8369333016852599\n",
      "k=17\n",
      "[423. 715. 338. 406. 355. 327. 436. 441. 306. 466.]\n",
      "[409. 482. 449. 399. 405. 404. 429. 424. 402. 410.]\n",
      "0.8869895536562203\n",
      "0.836458580583907\n",
      "k=18\n",
      "[424. 719. 333. 401. 352. 328. 437. 449. 307. 463.]\n",
      "[409. 482. 449. 399. 405. 404. 429. 424. 402. 410.]\n",
      "0.879392212725546\n",
      "0.8345596961784951\n",
      "k=19\n",
      "[422. 727. 329. 402. 350. 319. 435. 450. 307. 472.]\n",
      "[409. 482. 449. 399. 405. 404. 429. 424. 402. 410.]\n",
      "0.8784425451092118\n",
      "0.8314740090197009\n",
      "k=20\n",
      "[419. 732. 330. 404. 346. 321. 435. 445. 301. 480.]\n",
      "[409. 482. 449. 399. 405. 404. 429. 424. 402. 410.]\n",
      "0.8765432098765432\n",
      "0.8276762402088773\n"
     ]
    }
   ],
   "source": [
    "from sklearn.neighbors import KNeighborsClassifier\n",
    "from sklearn.metrics import jaccard_similarity_score\n",
    "for k in range(1,21):\n",
    "    #Train Model and Predict  \n",
    "    neigh = KNeighborsClassifier(n_neighbors = k).fit(X_train,Y_train)\n",
    "    Y_afterKNN = neigh.predict(X_test)\n",
    "    print(\"k=\"+str(k))\n",
    "    total=np.zeros(10)\n",
    "    for i in range(0,len(Y_test)):\n",
    "        total[Y_afterKNN[i]]+=1\n",
    "    print(total)\n",
    "    total=np.zeros(10)\n",
    "    for i in range(0,len(Y_test)):\n",
    "        total[Y_test.iloc[i]]+=1\n",
    "    print(total)\n",
    "    Y_trainforval=neigh.predict(X_train)\n",
    "    print(jaccard_similarity_score(Y_train, Y_trainforval))\n",
    "    print(jaccard_similarity_score(Y_test, Y_afterKNN))"
   ]
  },
  {
   "cell_type": "code",
   "execution_count": null,
   "metadata": {},
   "outputs": [],
   "source": []
  }
 ],
 "metadata": {
  "kernelspec": {
   "display_name": "Python 3",
   "language": "python",
   "name": "python3"
  },
  "language_info": {
   "codemirror_mode": {
    "name": "ipython",
    "version": 3
   },
   "file_extension": ".py",
   "mimetype": "text/x-python",
   "name": "python",
   "nbconvert_exporter": "python",
   "pygments_lexer": "ipython3",
   "version": "3.6.5"
  }
 },
 "nbformat": 4,
 "nbformat_minor": 2
}
