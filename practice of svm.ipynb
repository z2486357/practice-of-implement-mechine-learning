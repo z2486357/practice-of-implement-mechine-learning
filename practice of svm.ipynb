{
 "cells": [
  {
   "cell_type": "code",
   "execution_count": 2,
   "metadata": {},
   "outputs": [
    {
     "data": {
      "text/html": [
       "<div>\n",
       "<style scoped>\n",
       "    .dataframe tbody tr th:only-of-type {\n",
       "        vertical-align: middle;\n",
       "    }\n",
       "\n",
       "    .dataframe tbody tr th {\n",
       "        vertical-align: top;\n",
       "    }\n",
       "\n",
       "    .dataframe thead th {\n",
       "        text-align: right;\n",
       "    }\n",
       "</style>\n",
       "<table border=\"1\" class=\"dataframe\">\n",
       "  <thead>\n",
       "    <tr style=\"text-align: right;\">\n",
       "      <th></th>\n",
       "      <th>label</th>\n",
       "      <th>pixel0</th>\n",
       "      <th>pixel1</th>\n",
       "      <th>pixel2</th>\n",
       "      <th>pixel3</th>\n",
       "      <th>pixel4</th>\n",
       "      <th>pixel5</th>\n",
       "      <th>pixel6</th>\n",
       "      <th>pixel7</th>\n",
       "      <th>pixel8</th>\n",
       "      <th>...</th>\n",
       "      <th>pixel774</th>\n",
       "      <th>pixel775</th>\n",
       "      <th>pixel776</th>\n",
       "      <th>pixel777</th>\n",
       "      <th>pixel778</th>\n",
       "      <th>pixel779</th>\n",
       "      <th>pixel780</th>\n",
       "      <th>pixel781</th>\n",
       "      <th>pixel782</th>\n",
       "      <th>pixel783</th>\n",
       "    </tr>\n",
       "  </thead>\n",
       "  <tbody>\n",
       "    <tr>\n",
       "      <th>0</th>\n",
       "      <td>1</td>\n",
       "      <td>0</td>\n",
       "      <td>0</td>\n",
       "      <td>0</td>\n",
       "      <td>0</td>\n",
       "      <td>0</td>\n",
       "      <td>0</td>\n",
       "      <td>0</td>\n",
       "      <td>0</td>\n",
       "      <td>0</td>\n",
       "      <td>...</td>\n",
       "      <td>0</td>\n",
       "      <td>0</td>\n",
       "      <td>0</td>\n",
       "      <td>0</td>\n",
       "      <td>0</td>\n",
       "      <td>0</td>\n",
       "      <td>0</td>\n",
       "      <td>0</td>\n",
       "      <td>0</td>\n",
       "      <td>0</td>\n",
       "    </tr>\n",
       "    <tr>\n",
       "      <th>1</th>\n",
       "      <td>0</td>\n",
       "      <td>0</td>\n",
       "      <td>0</td>\n",
       "      <td>0</td>\n",
       "      <td>0</td>\n",
       "      <td>0</td>\n",
       "      <td>0</td>\n",
       "      <td>0</td>\n",
       "      <td>0</td>\n",
       "      <td>0</td>\n",
       "      <td>...</td>\n",
       "      <td>0</td>\n",
       "      <td>0</td>\n",
       "      <td>0</td>\n",
       "      <td>0</td>\n",
       "      <td>0</td>\n",
       "      <td>0</td>\n",
       "      <td>0</td>\n",
       "      <td>0</td>\n",
       "      <td>0</td>\n",
       "      <td>0</td>\n",
       "    </tr>\n",
       "    <tr>\n",
       "      <th>2</th>\n",
       "      <td>1</td>\n",
       "      <td>0</td>\n",
       "      <td>0</td>\n",
       "      <td>0</td>\n",
       "      <td>0</td>\n",
       "      <td>0</td>\n",
       "      <td>0</td>\n",
       "      <td>0</td>\n",
       "      <td>0</td>\n",
       "      <td>0</td>\n",
       "      <td>...</td>\n",
       "      <td>0</td>\n",
       "      <td>0</td>\n",
       "      <td>0</td>\n",
       "      <td>0</td>\n",
       "      <td>0</td>\n",
       "      <td>0</td>\n",
       "      <td>0</td>\n",
       "      <td>0</td>\n",
       "      <td>0</td>\n",
       "      <td>0</td>\n",
       "    </tr>\n",
       "    <tr>\n",
       "      <th>3</th>\n",
       "      <td>4</td>\n",
       "      <td>0</td>\n",
       "      <td>0</td>\n",
       "      <td>0</td>\n",
       "      <td>0</td>\n",
       "      <td>0</td>\n",
       "      <td>0</td>\n",
       "      <td>0</td>\n",
       "      <td>0</td>\n",
       "      <td>0</td>\n",
       "      <td>...</td>\n",
       "      <td>0</td>\n",
       "      <td>0</td>\n",
       "      <td>0</td>\n",
       "      <td>0</td>\n",
       "      <td>0</td>\n",
       "      <td>0</td>\n",
       "      <td>0</td>\n",
       "      <td>0</td>\n",
       "      <td>0</td>\n",
       "      <td>0</td>\n",
       "    </tr>\n",
       "    <tr>\n",
       "      <th>4</th>\n",
       "      <td>0</td>\n",
       "      <td>0</td>\n",
       "      <td>0</td>\n",
       "      <td>0</td>\n",
       "      <td>0</td>\n",
       "      <td>0</td>\n",
       "      <td>0</td>\n",
       "      <td>0</td>\n",
       "      <td>0</td>\n",
       "      <td>0</td>\n",
       "      <td>...</td>\n",
       "      <td>0</td>\n",
       "      <td>0</td>\n",
       "      <td>0</td>\n",
       "      <td>0</td>\n",
       "      <td>0</td>\n",
       "      <td>0</td>\n",
       "      <td>0</td>\n",
       "      <td>0</td>\n",
       "      <td>0</td>\n",
       "      <td>0</td>\n",
       "    </tr>\n",
       "  </tbody>\n",
       "</table>\n",
       "<p>5 rows × 785 columns</p>\n",
       "</div>"
      ],
      "text/plain": [
       "   label  pixel0  pixel1  pixel2  pixel3  pixel4  pixel5  pixel6  pixel7  \\\n",
       "0      1       0       0       0       0       0       0       0       0   \n",
       "1      0       0       0       0       0       0       0       0       0   \n",
       "2      1       0       0       0       0       0       0       0       0   \n",
       "3      4       0       0       0       0       0       0       0       0   \n",
       "4      0       0       0       0       0       0       0       0       0   \n",
       "\n",
       "   pixel8    ...     pixel774  pixel775  pixel776  pixel777  pixel778  \\\n",
       "0       0    ...            0         0         0         0         0   \n",
       "1       0    ...            0         0         0         0         0   \n",
       "2       0    ...            0         0         0         0         0   \n",
       "3       0    ...            0         0         0         0         0   \n",
       "4       0    ...            0         0         0         0         0   \n",
       "\n",
       "   pixel779  pixel780  pixel781  pixel782  pixel783  \n",
       "0         0         0         0         0         0  \n",
       "1         0         0         0         0         0  \n",
       "2         0         0         0         0         0  \n",
       "3         0         0         0         0         0  \n",
       "4         0         0         0         0         0  \n",
       "\n",
       "[5 rows x 785 columns]"
      ]
     },
     "execution_count": 2,
     "metadata": {},
     "output_type": "execute_result"
    }
   ],
   "source": [
    "import pandas as pd\n",
    "import pylab as pl\n",
    "import numpy as np\n",
    "import matplotlib.pyplot as plt\n",
    "%matplotlib inline\n",
    "train_df = pd.read_csv(\"train.csv\")\n",
    "train_df.head()"
   ]
  },
  {
   "cell_type": "code",
   "execution_count": 3,
   "metadata": {},
   "outputs": [
    {
     "data": {
      "text/html": [
       "<div>\n",
       "<style scoped>\n",
       "    .dataframe tbody tr th:only-of-type {\n",
       "        vertical-align: middle;\n",
       "    }\n",
       "\n",
       "    .dataframe tbody tr th {\n",
       "        vertical-align: top;\n",
       "    }\n",
       "\n",
       "    .dataframe thead th {\n",
       "        text-align: right;\n",
       "    }\n",
       "</style>\n",
       "<table border=\"1\" class=\"dataframe\">\n",
       "  <thead>\n",
       "    <tr style=\"text-align: right;\">\n",
       "      <th></th>\n",
       "      <th>pixel0</th>\n",
       "      <th>pixel1</th>\n",
       "      <th>pixel2</th>\n",
       "      <th>pixel3</th>\n",
       "      <th>pixel4</th>\n",
       "      <th>pixel5</th>\n",
       "      <th>pixel6</th>\n",
       "      <th>pixel7</th>\n",
       "      <th>pixel8</th>\n",
       "      <th>pixel9</th>\n",
       "      <th>...</th>\n",
       "      <th>pixel774</th>\n",
       "      <th>pixel775</th>\n",
       "      <th>pixel776</th>\n",
       "      <th>pixel777</th>\n",
       "      <th>pixel778</th>\n",
       "      <th>pixel779</th>\n",
       "      <th>pixel780</th>\n",
       "      <th>pixel781</th>\n",
       "      <th>pixel782</th>\n",
       "      <th>pixel783</th>\n",
       "    </tr>\n",
       "  </thead>\n",
       "  <tbody>\n",
       "    <tr>\n",
       "      <th>0</th>\n",
       "      <td>0</td>\n",
       "      <td>0</td>\n",
       "      <td>0</td>\n",
       "      <td>0</td>\n",
       "      <td>0</td>\n",
       "      <td>0</td>\n",
       "      <td>0</td>\n",
       "      <td>0</td>\n",
       "      <td>0</td>\n",
       "      <td>0</td>\n",
       "      <td>...</td>\n",
       "      <td>0</td>\n",
       "      <td>0</td>\n",
       "      <td>0</td>\n",
       "      <td>0</td>\n",
       "      <td>0</td>\n",
       "      <td>0</td>\n",
       "      <td>0</td>\n",
       "      <td>0</td>\n",
       "      <td>0</td>\n",
       "      <td>0</td>\n",
       "    </tr>\n",
       "    <tr>\n",
       "      <th>1</th>\n",
       "      <td>0</td>\n",
       "      <td>0</td>\n",
       "      <td>0</td>\n",
       "      <td>0</td>\n",
       "      <td>0</td>\n",
       "      <td>0</td>\n",
       "      <td>0</td>\n",
       "      <td>0</td>\n",
       "      <td>0</td>\n",
       "      <td>0</td>\n",
       "      <td>...</td>\n",
       "      <td>0</td>\n",
       "      <td>0</td>\n",
       "      <td>0</td>\n",
       "      <td>0</td>\n",
       "      <td>0</td>\n",
       "      <td>0</td>\n",
       "      <td>0</td>\n",
       "      <td>0</td>\n",
       "      <td>0</td>\n",
       "      <td>0</td>\n",
       "    </tr>\n",
       "    <tr>\n",
       "      <th>2</th>\n",
       "      <td>0</td>\n",
       "      <td>0</td>\n",
       "      <td>0</td>\n",
       "      <td>0</td>\n",
       "      <td>0</td>\n",
       "      <td>0</td>\n",
       "      <td>0</td>\n",
       "      <td>0</td>\n",
       "      <td>0</td>\n",
       "      <td>0</td>\n",
       "      <td>...</td>\n",
       "      <td>0</td>\n",
       "      <td>0</td>\n",
       "      <td>0</td>\n",
       "      <td>0</td>\n",
       "      <td>0</td>\n",
       "      <td>0</td>\n",
       "      <td>0</td>\n",
       "      <td>0</td>\n",
       "      <td>0</td>\n",
       "      <td>0</td>\n",
       "    </tr>\n",
       "    <tr>\n",
       "      <th>3</th>\n",
       "      <td>0</td>\n",
       "      <td>0</td>\n",
       "      <td>0</td>\n",
       "      <td>0</td>\n",
       "      <td>0</td>\n",
       "      <td>0</td>\n",
       "      <td>0</td>\n",
       "      <td>0</td>\n",
       "      <td>0</td>\n",
       "      <td>0</td>\n",
       "      <td>...</td>\n",
       "      <td>0</td>\n",
       "      <td>0</td>\n",
       "      <td>0</td>\n",
       "      <td>0</td>\n",
       "      <td>0</td>\n",
       "      <td>0</td>\n",
       "      <td>0</td>\n",
       "      <td>0</td>\n",
       "      <td>0</td>\n",
       "      <td>0</td>\n",
       "    </tr>\n",
       "    <tr>\n",
       "      <th>4</th>\n",
       "      <td>0</td>\n",
       "      <td>0</td>\n",
       "      <td>0</td>\n",
       "      <td>0</td>\n",
       "      <td>0</td>\n",
       "      <td>0</td>\n",
       "      <td>0</td>\n",
       "      <td>0</td>\n",
       "      <td>0</td>\n",
       "      <td>0</td>\n",
       "      <td>...</td>\n",
       "      <td>0</td>\n",
       "      <td>0</td>\n",
       "      <td>0</td>\n",
       "      <td>0</td>\n",
       "      <td>0</td>\n",
       "      <td>0</td>\n",
       "      <td>0</td>\n",
       "      <td>0</td>\n",
       "      <td>0</td>\n",
       "      <td>0</td>\n",
       "    </tr>\n",
       "  </tbody>\n",
       "</table>\n",
       "<p>5 rows × 784 columns</p>\n",
       "</div>"
      ],
      "text/plain": [
       "   pixel0  pixel1  pixel2  pixel3  pixel4  pixel5  pixel6  pixel7  pixel8  \\\n",
       "0       0       0       0       0       0       0       0       0       0   \n",
       "1       0       0       0       0       0       0       0       0       0   \n",
       "2       0       0       0       0       0       0       0       0       0   \n",
       "3       0       0       0       0       0       0       0       0       0   \n",
       "4       0       0       0       0       0       0       0       0       0   \n",
       "\n",
       "   pixel9    ...     pixel774  pixel775  pixel776  pixel777  pixel778  \\\n",
       "0       0    ...            0         0         0         0         0   \n",
       "1       0    ...            0         0         0         0         0   \n",
       "2       0    ...            0         0         0         0         0   \n",
       "3       0    ...            0         0         0         0         0   \n",
       "4       0    ...            0         0         0         0         0   \n",
       "\n",
       "   pixel779  pixel780  pixel781  pixel782  pixel783  \n",
       "0         0         0         0         0         0  \n",
       "1         0         0         0         0         0  \n",
       "2         0         0         0         0         0  \n",
       "3         0         0         0         0         0  \n",
       "4         0         0         0         0         0  \n",
       "\n",
       "[5 rows x 784 columns]"
      ]
     },
     "execution_count": 3,
     "metadata": {},
     "output_type": "execute_result"
    }
   ],
   "source": [
    "X_data=train_df.iloc[:,1:]\n",
    "X_data.head()"
   ]
  },
  {
   "cell_type": "code",
   "execution_count": 4,
   "metadata": {},
   "outputs": [
    {
     "data": {
      "text/plain": [
       "0    1\n",
       "1    0\n",
       "2    1\n",
       "3    4\n",
       "4    0\n",
       "Name: label, dtype: int64"
      ]
     },
     "execution_count": 4,
     "metadata": {},
     "output_type": "execute_result"
    }
   ],
   "source": [
    "Y_data=train_df.iloc[:,0]\n",
    "Y_data.head()"
   ]
  },
  {
   "cell_type": "code",
   "execution_count": 5,
   "metadata": {},
   "outputs": [
    {
     "name": "stderr",
     "output_type": "stream",
     "text": [
      "C:\\Users\\Aloha\\Anaconda3\\lib\\site-packages\\sklearn\\cross_validation.py:41: DeprecationWarning: This module was deprecated in version 0.18 in favor of the model_selection module into which all the refactored classes and functions are moved. Also note that the interface of the new CV iterators are different from that of this module. This module will be removed in 0.20.\n",
      "  \"This module will be removed in 0.20.\", DeprecationWarning)\n"
     ]
    }
   ],
   "source": [
    "from sklearn.cross_validation import train_test_split\n",
    "X_train, X_test, Y_train, Y_test = train_test_split( X_data, Y_data, test_size=0.8)"
   ]
  },
  {
   "cell_type": "code",
   "execution_count": 6,
   "metadata": {},
   "outputs": [
    {
     "name": "stdout",
     "output_type": "stream",
     "text": [
      "[403. 488. 471. 404. 405. 387. 418. 437. 398. 402.]\n"
     ]
    }
   ],
   "source": [
    "total=np.zeros(10)\n",
    "for i in range(0,len(Y_test)):\n",
    "    total[Y_test.iloc[i]]+=1\n",
    "print(total)"
   ]
  },
  {
   "cell_type": "code",
   "execution_count": 8,
   "metadata": {},
   "outputs": [],
   "source": [
    "#SVM"
   ]
  },
  {
   "cell_type": "code",
   "execution_count": 11,
   "metadata": {},
   "outputs": [
    {
     "data": {
      "text/plain": [
       "SVC(C=1.0, cache_size=200, class_weight=None, coef0=0.0,\n",
       "  decision_function_shape='ovr', degree=3, gamma='auto', kernel='linear',\n",
       "  max_iter=-1, probability=False, random_state=None, shrinking=True,\n",
       "  tol=0.001, verbose=False)"
      ]
     },
     "execution_count": 11,
     "metadata": {},
     "output_type": "execute_result"
    }
   ],
   "source": [
    "from sklearn import svm\n",
    "clf = svm.SVC(kernel='linear')\n",
    "clf.fit(X_train, Y_train) "
   ]
  },
  {
   "cell_type": "code",
   "execution_count": 12,
   "metadata": {},
   "outputs": [
    {
     "name": "stdout",
     "output_type": "stream",
     "text": [
      "[430. 513. 442. 384. 446. 385. 446. 412. 364. 391.]\n",
      "[409. 472. 451. 414. 402. 390. 430. 442. 396. 407.]\n"
     ]
    }
   ],
   "source": [
    "Y_aftersvc = clf.predict(X_test)\n",
    "total=np.zeros(10)\n",
    "for i in range(0,len(Y_test)):\n",
    "    total[Y_aftersvc[i]]+=1\n",
    "print(total)\n",
    "total=np.zeros(10)\n",
    "for i in range(0,len(Y_test)):\n",
    "    total[Y_test.iloc[i]]+=1\n",
    "print(total)"
   ]
  },
  {
   "cell_type": "code",
   "execution_count": 13,
   "metadata": {},
   "outputs": [
    {
     "name": "stdout",
     "output_type": "stream",
     "text": [
      "0.8860669356752907\n"
     ]
    }
   ],
   "source": [
    "total=0\n",
    "for i in range(0,len(Y_test)):\n",
    "    if Y_test.iloc[i]==Y_aftersvc[i]:\n",
    "        \"\"\"print(str(Y_test.iloc[i])+\"  \"+str(Y_aftersvc[i]))\"\"\"\n",
    "        total+=1\n",
    "print(total/len(Y_test))"
   ]
  },
  {
   "cell_type": "code",
   "execution_count": 14,
   "metadata": {},
   "outputs": [
    {
     "data": {
      "text/plain": [
       "0.8860669356752907"
      ]
     },
     "execution_count": 14,
     "metadata": {},
     "output_type": "execute_result"
    }
   ],
   "source": [
    "from sklearn.metrics import jaccard_similarity_score\n",
    "jaccard_similarity_score(Y_test, Y_aftersvc)"
   ]
  },
  {
   "cell_type": "code",
   "execution_count": 15,
   "metadata": {},
   "outputs": [
    {
     "name": "stdout",
     "output_type": "stream",
     "text": [
      "[412. 619. 430. 383. 410. 379. 432. 388. 368. 392.]\n",
      "[409. 472. 451. 414. 402. 390. 430. 442. 396. 407.]\n",
      "0.8905767861381438\n"
     ]
    },
    {
     "data": {
      "text/plain": [
       "0.8905767861381438"
      ]
     },
     "execution_count": 15,
     "metadata": {},
     "output_type": "execute_result"
    }
   ],
   "source": [
    "from sklearn import svm\n",
    "clf = svm.SVC(kernel='poly')\n",
    "clf.fit(X_train, Y_train) \n",
    "Y_aftersvc = clf.predict(X_test)\n",
    "total=np.zeros(10)\n",
    "for i in range(0,len(Y_test)):\n",
    "    total[Y_aftersvc[i]]+=1\n",
    "print(total)\n",
    "total=np.zeros(10)\n",
    "for i in range(0,len(Y_test)):\n",
    "    total[Y_test.iloc[i]]+=1\n",
    "print(total)\n",
    "total=0\n",
    "for i in range(0,len(Y_test)):\n",
    "    if Y_test.iloc[i]==Y_aftersvc[i]:\n",
    "        \"\"\"print(str(Y_test.iloc[i])+\"  \"+str(Y_aftersvc[i]))\"\"\"\n",
    "        total+=1\n",
    "print(total/len(Y_test))\n",
    "from sklearn.metrics import jaccard_similarity_score\n",
    "jaccard_similarity_score(Y_test, Y_aftersvc)"
   ]
  },
  {
   "cell_type": "code",
   "execution_count": 16,
   "metadata": {},
   "outputs": [
    {
     "name": "stdout",
     "output_type": "stream",
     "text": [
      "[   0.    0. 4213.    0.    0.    0.    0.    0.    0.    0.]\n",
      "[409. 472. 451. 414. 402. 390. 430. 442. 396. 407.]\n",
      "0.10704960835509138\n"
     ]
    },
    {
     "data": {
      "text/plain": [
       "0.10704960835509138"
      ]
     },
     "execution_count": 16,
     "metadata": {},
     "output_type": "execute_result"
    }
   ],
   "source": [
    "from sklearn import svm\n",
    "clf = svm.SVC(kernel='rbf')\n",
    "clf.fit(X_train, Y_train) \n",
    "Y_aftersvc = clf.predict(X_test)\n",
    "total=np.zeros(10)\n",
    "for i in range(0,len(Y_test)):\n",
    "    total[Y_aftersvc[i]]+=1\n",
    "print(total)\n",
    "total=np.zeros(10)\n",
    "for i in range(0,len(Y_test)):\n",
    "    total[Y_test.iloc[i]]+=1\n",
    "print(total)\n",
    "total=0\n",
    "for i in range(0,len(Y_test)):\n",
    "    if Y_test.iloc[i]==Y_aftersvc[i]:\n",
    "        \"\"\"print(str(Y_test.iloc[i])+\"  \"+str(Y_aftersvc[i]))\"\"\"\n",
    "        total+=1\n",
    "print(total/len(Y_test))\n",
    "from sklearn.metrics import jaccard_similarity_score\n",
    "jaccard_similarity_score(Y_test, Y_aftersvc)"
   ]
  },
  {
   "cell_type": "code",
   "execution_count": 9,
   "metadata": {},
   "outputs": [
    {
     "data": {
      "text/plain": [
       "DecisionTreeClassifier(class_weight=None, criterion='entropy', max_depth=4,\n",
       "            max_features=None, max_leaf_nodes=None,\n",
       "            min_impurity_decrease=0.0, min_impurity_split=None,\n",
       "            min_samples_leaf=1, min_samples_split=2,\n",
       "            min_weight_fraction_leaf=0.0, presort=False, random_state=None,\n",
       "            splitter='best')"
      ]
     },
     "execution_count": 9,
     "metadata": {},
     "output_type": "execute_result"
    }
   ],
   "source": [
    "from sklearn.tree import DecisionTreeClassifier\n",
    "drugTree = DecisionTreeClassifier(criterion=\"entropy\", max_depth = 4)\n",
    "drugTree # it shows the default parameters"
   ]
  },
  {
   "cell_type": "code",
   "execution_count": 10,
   "metadata": {},
   "outputs": [
    {
     "data": {
      "text/plain": [
       "DecisionTreeClassifier(class_weight=None, criterion='entropy', max_depth=4,\n",
       "            max_features=None, max_leaf_nodes=None,\n",
       "            min_impurity_decrease=0.0, min_impurity_split=None,\n",
       "            min_samples_leaf=1, min_samples_split=2,\n",
       "            min_weight_fraction_leaf=0.0, presort=False, random_state=None,\n",
       "            splitter='best')"
      ]
     },
     "execution_count": 10,
     "metadata": {},
     "output_type": "execute_result"
    }
   ],
   "source": [
    "drugTree.fit(X_train,Y_train)"
   ]
  },
  {
   "cell_type": "code",
   "execution_count": 15,
   "metadata": {},
   "outputs": [],
   "source": [
    "Y_afterdecision = drugTree.predict(X_test)"
   ]
  },
  {
   "cell_type": "code",
   "execution_count": 18,
   "metadata": {},
   "outputs": [
    {
     "name": "stdout",
     "output_type": "stream",
     "text": [
      "[547. 577. 399. 392. 612. 179. 398. 525. 336. 248.]\n",
      "[403. 488. 471. 404. 405. 387. 418. 437. 398. 402.]\n"
     ]
    },
    {
     "data": {
      "text/plain": [
       "0.5900783289817232"
      ]
     },
     "execution_count": 18,
     "metadata": {},
     "output_type": "execute_result"
    }
   ],
   "source": [
    "total=np.zeros(10)\n",
    "for i in range(0,len(Y_test)):\n",
    "    total[Y_afterdecision[i]]+=1\n",
    "print(total)\n",
    "total=np.zeros(10)\n",
    "for i in range(0,len(Y_test)):\n",
    "    total[Y_test.iloc[i]]+=1\n",
    "print(total)\n",
    "total=0\n",
    "for i in range(0,len(Y_test)):\n",
    "    if Y_test.iloc[i]==Y_afterdecision[i]:\n",
    "        \"\"\"print(str(Y_test.iloc[i])+\"  \"+str(Y_afterdecision[i]))\"\"\"\n",
    "        total+=1\n",
    "from sklearn.metrics import jaccard_similarity_score\n",
    "jaccard_similarity_score(Y_test, Y_afterdecision)"
   ]
  },
  {
   "cell_type": "code",
   "execution_count": 23,
   "metadata": {},
   "outputs": [
    {
     "name": "stdout",
     "output_type": "stream",
     "text": [
      "[412. 498. 444. 386. 376. 429. 405. 452. 394. 417.]\n",
      "[403. 488. 471. 404. 405. 387. 418. 437. 398. 402.]\n"
     ]
    },
    {
     "data": {
      "text/plain": [
       "0.6786138143840493"
      ]
     },
     "execution_count": 23,
     "metadata": {},
     "output_type": "execute_result"
    }
   ],
   "source": [
    "from sklearn.tree import DecisionTreeClassifier\n",
    "drugTree = DecisionTreeClassifier(criterion=\"gini\",max_depth = None)\n",
    "drugTree # it shows the default parameters\n",
    "drugTree.fit(X_train,Y_train)\n",
    "Y_afterdecision = drugTree.predict(X_test)\n",
    "total=np.zeros(10)\n",
    "for i in range(0,len(Y_test)):\n",
    "    total[Y_afterdecision[i]]+=1\n",
    "print(total)\n",
    "total=np.zeros(10)\n",
    "for i in range(0,len(Y_test)):\n",
    "    total[Y_test.iloc[i]]+=1\n",
    "print(total)\n",
    "total=0\n",
    "for i in range(0,len(Y_test)):\n",
    "    if Y_test.iloc[i]==Y_afterdecision[i]:\n",
    "        \"\"\"print(str(Y_test.iloc[i])+\"  \"+str(Y_afterdecision[i]))\"\"\"\n",
    "        total+=1\n",
    "from sklearn.metrics import jaccard_similarity_score\n",
    "jaccard_similarity_score(Y_test, Y_afterdecision)"
   ]
  },
  {
   "cell_type": "code",
   "execution_count": 33,
   "metadata": {},
   "outputs": [
    {
     "name": "stdout",
     "output_type": "stream",
     "text": [
      "k=1\n",
      "[421. 554. 406. 398. 372. 400. 437. 459. 352. 414.]\n",
      "[403. 488. 471. 404. 405. 387. 418. 437. 398. 402.]\n",
      "0.8803702824590554\n",
      "k=2\n",
      "[466. 600. 409. 448. 439. 373. 405. 471. 294. 308.]\n",
      "[403. 488. 471. 404. 405. 387. 418. 437. 398. 402.]\n",
      "0.8592451934488488\n",
      "k=3\n",
      "[453. 591. 393. 415. 389. 361. 429. 423. 321. 438.]\n",
      "[403. 488. 471. 404. 405. 387. 418. 437. 398. 402.]\n",
      "0.8756230714455258\n",
      "k=4\n",
      "[448. 610. 381. 415. 392. 358. 428. 445. 328. 408.]\n",
      "[403. 488. 471. 404. 405. 387. 418. 437. 398. 402.]\n",
      "0.8751483503441728\n",
      "k=5\n",
      "[440. 603. 378. 415. 372. 359. 432. 431. 333. 450.]\n",
      "[403. 488. 471. 404. 405. 387. 418. 437. 398. 402.]\n",
      "0.8711132209826726\n",
      "k=6\n",
      "[449. 609. 382. 416. 383. 355. 429. 433. 323. 434.]\n",
      "[403. 488. 471. 404. 405. 387. 418. 437. 398. 402.]\n",
      "0.8699264182292903\n",
      "k=7\n",
      "[439. 612. 381. 415. 368. 350. 437. 434. 325. 452.]\n",
      "[403. 488. 471. 404. 405. 387. 418. 437. 398. 402.]\n",
      "0.8694516971279374\n",
      "k=8\n",
      "[442. 620. 377. 416. 377. 344. 431. 432. 323. 451.]\n",
      "[403. 488. 471. 404. 405. 387. 418. 437. 398. 402.]\n",
      "0.8680275338238784\n",
      "k=9\n",
      "[435. 625. 369. 413. 368. 352. 437. 429. 322. 463.]\n",
      "[403. 488. 471. 404. 405. 387. 418. 437. 398. 402.]\n",
      "0.8644671255637313\n",
      "k=10\n",
      "[439. 639. 361. 415. 367. 342. 434. 430. 324. 462.]\n",
      "[403. 488. 471. 404. 405. 387. 418. 437. 398. 402.]\n",
      "0.8606693567529077\n",
      "k=11\n",
      "[443. 640. 360. 411. 370. 347. 432. 429. 323. 458.]\n",
      "[403. 488. 471. 404. 405. 387. 418. 437. 398. 402.]\n",
      "0.8590078328981723\n",
      "k=12\n",
      "[443. 656. 356. 420. 359. 335. 429. 420. 323. 472.]\n",
      "[403. 488. 471. 404. 405. 387. 418. 437. 398. 402.]\n",
      "0.8533111796819368\n",
      "k=13\n",
      "[441. 658. 353. 415. 355. 337. 433. 419. 321. 481.]\n",
      "[403. 488. 471. 404. 405. 387. 418. 437. 398. 402.]\n",
      "0.8507002136244957\n",
      "k=14\n",
      "[440. 668. 352. 419. 362. 334. 430. 415. 315. 478.]\n",
      "[403. 488. 471. 404. 405. 387. 418. 437. 398. 402.]\n",
      "0.8459530026109661\n",
      "k=15\n",
      "[440. 677. 346. 419. 360. 328. 434. 417. 314. 478.]\n",
      "[403. 488. 471. 404. 405. 387. 418. 437. 398. 402.]\n",
      "0.8412057915974365\n",
      "k=16\n",
      "[440. 684. 345. 421. 355. 323. 430. 411. 313. 491.]\n",
      "[403. 488. 471. 404. 405. 387. 418. 437. 398. 402.]\n",
      "0.8397816282933777\n",
      "k=17\n",
      "[435. 694. 340. 423. 344. 318. 435. 413. 311. 500.]\n",
      "[403. 488. 471. 404. 405. 387. 418. 437. 398. 402.]\n",
      "0.8331355328744363\n",
      "k=18\n",
      "[434. 694. 338. 423. 343. 317. 432. 415. 309. 508.]\n",
      "[403. 488. 471. 404. 405. 387. 418. 437. 398. 402.]\n",
      "0.8326608117730833\n",
      "k=19\n",
      "[436. 696. 336. 420. 343. 316. 435. 412. 306. 513.]\n",
      "[403. 488. 471. 404. 405. 387. 418. 437. 398. 402.]\n",
      "0.8295751246142891\n",
      "k=20\n",
      "[435. 707. 332. 425. 348. 312. 431. 416. 306. 501.]\n",
      "[403. 488. 471. 404. 405. 387. 418. 437. 398. 402.]\n",
      "0.8286256824115832\n"
     ]
    }
   ],
   "source": [
    "from sklearn.neighbors import KNeighborsClassifier\n",
    "from sklearn.metrics import jaccard_similarity_score\n",
    "for k in range(1,21):\n",
    "    #Train Model and Predict  \n",
    "    neigh = KNeighborsClassifier(n_neighbors = k).fit(X_train,Y_train)\n",
    "    Y_afterKNN = neigh.predict(X_test)\n",
    "    print(\"k=\"+str(k))\n",
    "    total=np.zeros(10)\n",
    "    for i in range(0,len(Y_test)):\n",
    "        total[Y_afterKNN[i]]+=1\n",
    "    print(total)\n",
    "    total=np.zeros(10)\n",
    "    for i in range(0,len(Y_test)):\n",
    "        total[Y_test.iloc[i]]+=1\n",
    "    print(total)\n",
    "    print(jaccard_similarity_score(Y_test, Y_afterKNN))"
   ]
  },
  {
   "cell_type": "code",
   "execution_count": null,
   "metadata": {},
   "outputs": [],
   "source": []
  }
 ],
 "metadata": {
  "kernelspec": {
   "display_name": "Python 3",
   "language": "python",
   "name": "python3"
  },
  "language_info": {
   "codemirror_mode": {
    "name": "ipython",
    "version": 3
   },
   "file_extension": ".py",
   "mimetype": "text/x-python",
   "name": "python",
   "nbconvert_exporter": "python",
   "pygments_lexer": "ipython3",
   "version": "3.6.5"
  }
 },
 "nbformat": 4,
 "nbformat_minor": 2
}
